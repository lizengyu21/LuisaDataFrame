{
 "cells": [
  {
   "cell_type": "code",
   "execution_count": 15,
   "metadata": {},
   "outputs": [],
   "source": [
    "import pandas as pd\n",
    "import time\n",
    "from tqdm import trange\n",
    "import json"
   ]
  },
  {
   "cell_type": "code",
   "execution_count": 16,
   "metadata": {},
   "outputs": [
    {
     "name": "stdout",
     "output_type": "stream",
     "text": [
      "            timestamp    float_1    float_2   float_3    float_4  int_1  \\\n",
      "0 2020-01-01 00:00:00  14.830987  15.723351  7.764221   9.139441      8   \n",
      "1 2020-01-01 00:01:00  15.277334  14.383781  8.050471   9.241592      9   \n",
      "2 2020-01-01 00:02:00  14.407419  14.133512  7.785035  11.045418      8   \n",
      "3 2020-01-01 00:03:00  14.416103  14.438385  7.607110   8.510003      9   \n",
      "4 2020-01-01 00:04:00  15.331453  13.149238  8.170057   8.315617      8   \n",
      "\n",
      "   int_2  int_3  int_4  \n",
      "0      7      8      8  \n",
      "1      7      8      8  \n",
      "2      7      9      9  \n",
      "3      7      9      9  \n",
      "4      7      9      8   3680641\n"
     ]
    }
   ],
   "source": [
    "float_count = 4\n",
    "int_count = 4\n",
    "\n",
    "dtypes = {}\n",
    "for i in range(1, float_count + 1):\n",
    "    dtypes[f'float_{i}'] = 'float32'\n",
    "for i in range(1, int_count + 1):\n",
    "    dtypes[f'int_{i}'] = 'int32'\n",
    "\n",
    "df = pd.read_csv(f\"../../data/synthesis_data.csv\", dtype=dtypes)\n",
    "\n",
    "df[\"timestamp\"] = pd.to_datetime(df[\"timestamp\"])\n",
    "test_round = 10\n",
    "\n",
    "print(df.head(), len(df))"
   ]
  },
  {
   "cell_type": "code",
   "execution_count": 17,
   "metadata": {},
   "outputs": [],
   "source": [
    "benchmark_results = {\n",
    "    \"metadata\": {\n",
    "        \"test_rounds\": test_round,\n",
    "        \"data_size\": len(df),\n",
    "        \"timestamp\": time.strftime(\"%Y-%m-%d %H:%M:%S\")\n",
    "    },\n",
    "    \"where\": {},\n",
    "    \"apply\": {},\n",
    "    \"sort\": {},\n",
    "    \"join\": {},\n",
    "    \"groupby\": {},\n",
    "    \"interval\": {}\n",
    "}"
   ]
  },
  {
   "cell_type": "code",
   "execution_count": 18,
   "metadata": {},
   "outputs": [
    {
     "name": "stderr",
     "output_type": "stream",
     "text": [
      "Where on int_1: 100%|██████████| 10/10 [00:00<00:00, 39.84it/s]\n",
      "Where on int_2: 100%|██████████| 10/10 [00:00<00:00, 40.08it/s]\n",
      "Where on int_3: 100%|██████████| 10/10 [00:00<00:00, 36.78it/s]\n",
      "Where on int_4: 100%|██████████| 10/10 [00:00<00:00, 38.16it/s]\n",
      "Where on float_1: 100%|██████████| 10/10 [00:00<00:00, 25.29it/s]\n",
      "Where on float_2: 100%|██████████| 10/10 [00:00<00:00, 38.40it/s]\n",
      "Where on float_3: 100%|██████████| 10/10 [00:00<00:00, 21.19it/s]\n",
      "Where on float_4: 100%|██████████| 10/10 [00:00<00:00, 28.25it/s]"
     ]
    },
    {
     "name": "stdout",
     "output_type": "stream",
     "text": [
      "{'int_1': 25.194287300109863, 'int_2': 25.032591819763184, 'int_3': 27.283501625061035, 'int_4': 26.300525665283203, 'float_1': 39.62094783782959, 'float_2': 26.13518238067627, 'float_3': 47.27151393890381, 'float_4': 35.486674308776855}\n"
     ]
    },
    {
     "name": "stderr",
     "output_type": "stream",
     "text": [
      "\n"
     ]
    }
   ],
   "source": [
    "for i in range(1, int_count + 1):\n",
    "    start_time = time.time()\n",
    "    for _ in trange(test_round, desc=f\"Where on int_{i}\"):\n",
    "        t = df[df[f\"int_{i}\"] <= 100]\n",
    "    benchmark_results[\"where\"][f\"int_{i}\"] = (time.time() - start_time) * 1000 / test_round\n",
    "\n",
    "for i in range(1, float_count + 1):\n",
    "    start_time = time.time()\n",
    "    for _ in trange(test_round, desc=f\"Where on float_{i}\"):\n",
    "        t = df[df[f\"float_{i}\"] > -55.0]\n",
    "    benchmark_results[\"where\"][f\"float_{i}\"] = (time.time() - start_time) * 1000 / test_round\n",
    "\n",
    "print(benchmark_results[\"where\"])"
   ]
  },
  {
   "cell_type": "code",
   "execution_count": 19,
   "metadata": {},
   "outputs": [
    {
     "name": "stderr",
     "output_type": "stream",
     "text": [
      "Apply on float_1: 100%|██████████| 10/10 [00:03<00:00,  3.27it/s]\n",
      "Apply on float_2: 100%|██████████| 10/10 [00:03<00:00,  3.27it/s]\n",
      "Apply on float_3: 100%|██████████| 10/10 [00:03<00:00,  3.29it/s]\n",
      "Apply on float_4: 100%|██████████| 10/10 [00:03<00:00,  3.29it/s]\n",
      "Apply on int_1: 100%|██████████| 10/10 [00:04<00:00,  2.43it/s]\n",
      "Apply on int_2: 100%|██████████| 10/10 [00:04<00:00,  2.44it/s]\n",
      "Apply on int_3: 100%|██████████| 10/10 [00:04<00:00,  2.44it/s]\n",
      "Apply on int_4: 100%|██████████| 10/10 [00:04<00:00,  2.47it/s]"
     ]
    },
    {
     "name": "stdout",
     "output_type": "stream",
     "text": [
      "{'float_1': 306.2538146972656, 'float_2': 305.5551052093506, 'float_3': 303.8123607635498, 'float_4': 304.16226387023926, 'int_1': 411.44542694091797, 'int_2': 409.2601776123047, 'int_3': 410.71949005126953, 'int_4': 405.1797389984131}\n"
     ]
    },
    {
     "name": "stderr",
     "output_type": "stream",
     "text": [
      "\n"
     ]
    }
   ],
   "source": [
    "def double_value(x):\n",
    "    return x * 2\n",
    "\n",
    "\n",
    "for i in range(1, float_count + 1):\n",
    "    start_time = time.time()\n",
    "    for _ in trange(test_round, desc=f\"Apply on float_{i}\"):\n",
    "        t = df[f\"float_{i}\"].apply(double_value)\n",
    "    benchmark_results[\"apply\"][f\"float_{i}\"] = (time.time() - start_time) * 1000 / test_round\n",
    "    \n",
    "for i in range(1, int_count + 1):\n",
    "    start_time = time.time()\n",
    "    for _ in trange(test_round, desc=f\"Apply on int_{i}\"):\n",
    "        t = df[f\"int_{i}\"].apply(double_value)\n",
    "    benchmark_results[\"apply\"][f\"int_{i}\"] = (time.time() - start_time) * 1000 / test_round\n",
    "    \n",
    "print(benchmark_results[\"apply\"])"
   ]
  },
  {
   "cell_type": "code",
   "execution_count": 20,
   "metadata": {},
   "outputs": [
    {
     "name": "stderr",
     "output_type": "stream",
     "text": [
      "Sort on float_1: 100%|██████████| 10/10 [00:01<00:00,  5.85it/s]\n",
      "Sort on float_2: 100%|██████████| 10/10 [00:01<00:00,  5.77it/s]\n",
      "Sort on float_3: 100%|██████████| 10/10 [00:01<00:00,  5.72it/s]\n",
      "Sort on float_4: 100%|██████████| 10/10 [00:01<00:00,  5.69it/s]\n",
      "Sort on int_1: 100%|██████████| 10/10 [00:01<00:00,  8.76it/s]\n",
      "Sort on int_2: 100%|██████████| 10/10 [00:01<00:00,  8.52it/s]\n",
      "Sort on int_3: 100%|██████████| 10/10 [00:01<00:00,  8.51it/s]\n",
      "Sort on int_4: 100%|██████████| 10/10 [00:01<00:00,  8.33it/s]"
     ]
    },
    {
     "name": "stdout",
     "output_type": "stream",
     "text": [
      "{'float_1': 171.10111713409424, 'float_2': 173.5069990158081, 'float_3': 174.80392456054688, 'float_4': 175.92267990112305, 'int_1': 114.2702579498291, 'int_2': 117.49212741851807, 'int_3': 117.67563819885254, 'int_4': 120.17946243286133}\n"
     ]
    },
    {
     "name": "stderr",
     "output_type": "stream",
     "text": [
      "\n"
     ]
    }
   ],
   "source": [
    "# Sort 操作\n",
    "for i in range(1, float_count + 1):\n",
    "    start_time = time.time()\n",
    "    for _ in trange(test_round, desc=f\"Sort on float_{i}\"):\n",
    "        t = df.sort_values(f\"float_{i}\")\n",
    "    benchmark_results[\"sort\"][f\"float_{i}\"] = (time.time() - start_time) * 1000 / test_round\n",
    "for i in range(1, int_count + 1):\n",
    "    start_time = time.time()\n",
    "    for _ in trange(test_round, desc=f\"Sort on int_{i}\"):\n",
    "        t = df.sort_values(f\"int_{i}\")\n",
    "    benchmark_results[\"sort\"][f\"int_{i}\"] = (time.time() - start_time) * 1000 / test_round\n",
    "print(benchmark_results[\"sort\"])"
   ]
  },
  {
   "cell_type": "code",
   "execution_count": 21,
   "metadata": {},
   "outputs": [
    {
     "name": "stdout",
     "output_type": "stream",
     "text": [
      "6676\n",
      "190860\n"
     ]
    },
    {
     "name": "stderr",
     "output_type": "stream",
     "text": [
      "Join on int_1:   0%|          | 0/10 [00:00<?, ?it/s]"
     ]
    },
    {
     "name": "stderr",
     "output_type": "stream",
     "text": [
      "Join on int_1: 100%|██████████| 10/10 [00:27<00:00,  2.70s/it]"
     ]
    },
    {
     "name": "stdout",
     "output_type": "stream",
     "text": [
      "{'int_1': 2702.946400642395}\n"
     ]
    },
    {
     "name": "stderr",
     "output_type": "stream",
     "text": [
      "\n"
     ]
    }
   ],
   "source": [
    "# split data by int_1\n",
    "int_1_span = 7\n",
    "df_subset_l = df[df[\"int_1\"].between(0, int_1_span)]\n",
    "df_subset_r = df[df[\"int_1\"].between(int_1_span, int_1_span * 2)]\n",
    "\n",
    "# print subset len\n",
    "print(len(df_subset_l))\n",
    "print(len(df_subset_r))\n",
    "\n",
    "start_time = time.time()\n",
    "for i in trange(test_round, desc=\"Join on int_1\"):\n",
    "    t = df_subset_l.merge(df_subset_r, on=\"int_2\", how=\"left\")\n",
    "benchmark_results[\"join\"][\"int_1\"] = (time.time() - start_time) * 1000 / test_round\n",
    "\n",
    "print(benchmark_results[\"join\"])"
   ]
  },
  {
   "cell_type": "code",
   "execution_count": 22,
   "metadata": {},
   "outputs": [
    {
     "name": "stderr",
     "output_type": "stream",
     "text": [
      "Groupby on Stkcd: 100%|██████████| 10/10 [00:02<00:00,  3.74it/s]"
     ]
    },
    {
     "name": "stdout",
     "output_type": "stream",
     "text": [
      "{'int_1': 267.2442674636841}\n"
     ]
    },
    {
     "name": "stderr",
     "output_type": "stream",
     "text": [
      "\n"
     ]
    }
   ],
   "source": [
    "agg_map = {\n",
    "    \"float_1\": [\"max\", \"min\", \"mean\", \"sum\"],\n",
    "    \"float_2\": [\"max\", \"min\", \"mean\", \"sum\"],\n",
    "    \"float_3\": [\"max\", \"min\", \"mean\", \"sum\"],\n",
    "    \"float_4\": [\"max\", \"min\", \"mean\", \"sum\"],\n",
    "    \"int_2\": [\"max\", \"min\", \"mean\", \"sum\"],\n",
    "    \"int_3\": [\"max\", \"min\", \"mean\", \"sum\"],\n",
    "    \"int_4\": [\"max\", \"min\", \"mean\", \"sum\"],\n",
    "}\n",
    "\n",
    "start_time = time.time()\n",
    "for i in trange(test_round, desc=\"Groupby on Stkcd\"):\n",
    "    t = df.groupby(\"int_1\").agg(agg_map)\n",
    "benchmark_results[\"groupby\"][\"int_1\"] = (time.time() - start_time) * 1000 / test_round\n",
    "print(benchmark_results[\"groupby\"])"
   ]
  },
  {
   "cell_type": "code",
   "execution_count": 23,
   "metadata": {},
   "outputs": [],
   "source": [
    "df = df.set_index(\"timestamp\")\n",
    "interval_test_round = test_round // int(10)\n",
    "\n",
    "agg_dict = {\n",
    "    \"float_1\": [\"max\", \"min\", \"mean\", \"sum\", \"count\"],\n",
    "    \"float_2\": [\"max\", \"min\", \"mean\", \"sum\", \"count\"],\n",
    "    \"float_3\": [\"max\", \"min\", \"mean\", \"sum\", \"count\"],\n",
    "    \"float_4\": [\"max\", \"min\", \"mean\", \"sum\", \"count\"],\n",
    "    \"int_1\": [\"max\", \"min\", \"mean\", \"sum\", \"count\"],\n",
    "    \"int_3\": [\"max\", \"min\", \"mean\", \"sum\", \"count\"],\n",
    "    \"int_4\": [\"max\", \"min\", \"mean\", \"sum\", \"count\"],\n",
    "}"
   ]
  },
  {
   "cell_type": "code",
   "execution_count": 24,
   "metadata": {},
   "outputs": [
    {
     "name": "stderr",
     "output_type": "stream",
     "text": [
      "Interval 1H:   0%|          | 0/1 [00:00<?, ?it/s]/tmp/ipykernel_345195/3235279237.py:3: FutureWarning: 'H' is deprecated and will be removed in a future version, please use 'h' instead.\n",
      "  t = df.groupby(\"int_1\").resample(\"1H\").agg(agg_dict)\n",
      "Interval 1H: 100%|██████████| 1/1 [00:06<00:00,  6.77s/it]\n",
      "Interval 1D: 100%|██████████| 1/1 [00:04<00:00,  4.23s/it]\n",
      "Interval 1M: 100%|██████████| 1/1 [00:04<00:00,  4.22s/it]"
     ]
    },
    {
     "name": "stdout",
     "output_type": "stream",
     "text": [
      "{'1H': 6772.326231002808, '1D': 4235.539674758911, '1M': 4221.1432456970215}\n"
     ]
    },
    {
     "name": "stderr",
     "output_type": "stream",
     "text": [
      "\n"
     ]
    }
   ],
   "source": [
    "start_time = time.time()\n",
    "for i in trange(interval_test_round, desc=\"Interval 1H\"):\n",
    "    t = df.groupby(\"int_1\").resample(\"1H\").agg(agg_dict)\n",
    "benchmark_results[\"interval\"][\"1H\"] = (time.time() - start_time) * 1000 / interval_test_round\n",
    "\n",
    "start_time = time.time()\n",
    "for i in trange(interval_test_round, desc=\"Interval 1D\"):\n",
    "    t = df.groupby(\"int_1\").resample(\"1D\").agg(agg_dict)\n",
    "benchmark_results[\"interval\"][\"1D\"] = (time.time() - start_time) * 1000 / interval_test_round\n",
    "\n",
    "start_time = time.time()\n",
    "for i in trange(interval_test_round, desc=\"Interval 1M\"):\n",
    "    t = df.groupby(\"int_1\").resample(\"30D\").agg(agg_dict)\n",
    "benchmark_results[\"interval\"][\"1M\"] = (time.time() - start_time) * 1000 / interval_test_round\n",
    "\n",
    "print(benchmark_results[\"interval\"])"
   ]
  },
  {
   "cell_type": "code",
   "execution_count": 25,
   "metadata": {},
   "outputs": [],
   "source": [
    "with open(\"../../results/pandas_syn_benchmark_results.json\", \"w\") as f:\n",
    "    json.dump(benchmark_results, f, indent=4)"
   ]
  }
 ],
 "metadata": {
  "kernelspec": {
   "display_name": "cudf",
   "language": "python",
   "name": "python3"
  },
  "language_info": {
   "codemirror_mode": {
    "name": "ipython",
    "version": 3
   },
   "file_extension": ".py",
   "mimetype": "text/x-python",
   "name": "python",
   "nbconvert_exporter": "python",
   "pygments_lexer": "ipython3",
   "version": "3.11.11"
  }
 },
 "nbformat": 4,
 "nbformat_minor": 2
}
