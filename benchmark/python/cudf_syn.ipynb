{
 "cells": [
  {
   "cell_type": "code",
   "execution_count": 7,
   "metadata": {},
   "outputs": [],
   "source": [
    "import cudf\n",
    "import time\n",
    "from tqdm import trange\n",
    "import pandas as pd\n",
    "import json"
   ]
  },
  {
   "cell_type": "code",
   "execution_count": 8,
   "metadata": {},
   "outputs": [
    {
     "name": "stdout",
     "output_type": "stream",
     "text": [
      "{'float_1': 'float32', 'float_2': 'float32', 'float_3': 'float32', 'float_4': 'float32', 'int_1': 'int32', 'int_2': 'int32', 'int_3': 'int32', 'int_4': 'int32'}\n",
      "            timestamp    float_1    float_2   float_3    float_4  int_1  \\\n",
      "0 2020-01-01 00:00:00  14.830987  15.723351  7.764221   9.139441      8   \n",
      "1 2020-01-01 00:01:00  15.277333  14.383782  8.050470   9.241591      9   \n",
      "2 2020-01-01 00:02:00  14.407417  14.133512  7.785035  11.045417      8   \n",
      "3 2020-01-01 00:03:00  14.416102  14.438385  7.607110   8.510004      9   \n",
      "4 2020-01-01 00:04:00  15.331453  13.149238  8.170056   8.315616      8   \n",
      "\n",
      "   int_2  int_3  int_4  \n",
      "0      7      8      8  \n",
      "1      7      8      8  \n",
      "2      7      9      9  \n",
      "3      7      9      9  \n",
      "4      7      9      8   3680641\n"
     ]
    }
   ],
   "source": [
    "float_count = 4\n",
    "int_count = 4\n",
    "\n",
    "dtypes = {}\n",
    "for i in range(1, float_count + 1):\n",
    "    dtypes[f'float_{i}'] = 'float32'\n",
    "for i in range(1, int_count + 1):\n",
    "    dtypes[f'int_{i}'] = 'int32'\n",
    "\n",
    "print(dtypes)\n",
    "\n",
    "df = cudf.read_csv(f\"../../data/synthesis_data.csv\", dtype=dtypes)\n",
    "\n",
    "df[\"timestamp\"] = cudf.to_datetime(df[\"timestamp\"])\n",
    "test_round = 100\n",
    "\n",
    "print(df.head(), len(df))"
   ]
  },
  {
   "cell_type": "code",
   "execution_count": 9,
   "metadata": {},
   "outputs": [],
   "source": [
    "benchmark_results = {\n",
    "    \"metadata\": {\n",
    "        \"test_rounds\": test_round,\n",
    "        \"data_size\": len(df),\n",
    "        \"timestamp\": time.strftime(\"%Y-%m-%d %H:%M:%S\")\n",
    "    },\n",
    "    \"where\": {},\n",
    "    \"apply\": {},\n",
    "    \"sort\": {},\n",
    "    \"join\": {},\n",
    "    \"groupby\": {},\n",
    "}"
   ]
  },
  {
   "cell_type": "code",
   "execution_count": 10,
   "metadata": {},
   "outputs": [
    {
     "name": "stderr",
     "output_type": "stream",
     "text": [
      "Where on int_1: 100%|██████████| 100/100 [00:00<00:00, 284.28it/s]\n",
      "Where on int_2: 100%|██████████| 100/100 [00:00<00:00, 285.83it/s]\n",
      "Where on int_3: 100%|██████████| 100/100 [00:00<00:00, 284.32it/s]\n",
      "Where on int_4: 100%|██████████| 100/100 [00:00<00:00, 285.29it/s]\n",
      "Where on float_1: 100%|██████████| 100/100 [00:00<00:00, 241.26it/s]\n",
      "Where on float_2: 100%|██████████| 100/100 [00:00<00:00, 285.48it/s]\n",
      "Where on float_3: 100%|██████████| 100/100 [00:00<00:00, 210.06it/s]\n",
      "Where on float_4: 100%|██████████| 100/100 [00:00<00:00, 248.45it/s]"
     ]
    },
    {
     "name": "stdout",
     "output_type": "stream",
     "text": [
      "{'int_1': 3.5241293907165527, 'int_2': 3.5050010681152344, 'int_3': 3.5245347023010254, 'int_4': 3.511991500854492, 'float_1': 4.152727127075195, 'float_2': 3.5090255737304688, 'float_3': 4.767255783081055, 'float_4': 4.031405448913574}\n"
     ]
    },
    {
     "name": "stderr",
     "output_type": "stream",
     "text": [
      "\n"
     ]
    }
   ],
   "source": [
    "\n",
    "for i in range(1, int_count + 1):\n",
    "    start_time = time.time()\n",
    "    for _ in trange(test_round, desc=f\"Where on int_{i}\"):\n",
    "        t = df[df[f\"int_{i}\"] <= 100]\n",
    "    benchmark_results[\"where\"][f\"int_{i}\"] = (time.time() - start_time) * 1000 / test_round\n",
    "\n",
    "for i in range(1, float_count + 1):\n",
    "    start_time = time.time()\n",
    "    for _ in trange(test_round, desc=f\"Where on float_{i}\"):\n",
    "        t = df[df[f\"float_{i}\"] > -55.0]\n",
    "    benchmark_results[\"where\"][f\"float_{i}\"] = (time.time() - start_time) * 1000 / test_round\n",
    "\n",
    "print(benchmark_results[\"where\"])"
   ]
  },
  {
   "cell_type": "code",
   "execution_count": null,
   "metadata": {},
   "outputs": [
    {
     "name": "stderr",
     "output_type": "stream",
     "text": [
      "Apply on float_1: 100%|██████████| 100/100 [00:00<00:00, 605.90it/s]\n",
      "Apply on float_2: 100%|██████████| 100/100 [00:00<00:00, 618.82it/s]\n",
      "Apply on float_3: 100%|██████████| 100/100 [00:00<00:00, 620.50it/s]\n",
      "Apply on float_4: 100%|██████████| 100/100 [00:00<00:00, 620.33it/s]\n",
      "Apply on int_1: 100%|██████████| 100/100 [00:00<00:00, 779.64it/s]\n",
      "Apply on int_2: 100%|██████████| 100/100 [00:00<00:00, 778.43it/s]\n",
      "Apply on int_3: 100%|██████████| 100/100 [00:00<00:00, 779.00it/s]\n",
      "Apply on int_4: 100%|██████████| 100/100 [00:00<00:00, 778.61it/s]"
     ]
    },
    {
     "name": "stdout",
     "output_type": "stream",
     "text": [
      "{'float_1': 1.660611629486084, 'float_2': 1.6222858428955078, 'float_3': 1.619102954864502, 'float_4': 1.618056297302246, 'int_1': 1.2892913818359375, 'int_2': 1.2910127639770508, 'int_3': 1.2903904914855957, 'int_4': 1.2905073165893555}\n"
     ]
    },
    {
     "name": "stderr",
     "output_type": "stream",
     "text": [
      "\n"
     ]
    }
   ],
   "source": [
    "def double_value(x):\n",
    "    return x * 2\n",
    "\n",
    "\n",
    "for i in range(1, float_count + 1):\n",
    "    start_time = time.time()\n",
    "    for _ in trange(test_round, desc=f\"Apply on float_{i}\"):\n",
    "        t = df[f\"float_{i}\"].apply(double_value)\n",
    "    benchmark_results[\"apply\"][f\"float_{i}\"] = (time.time() - start_time) * 1000 / test_round\n",
    "    \n",
    "for i in range(1, int_count + 1):\n",
    "    start_time = time.time()\n",
    "    for _ in trange(test_round, desc=f\"Apply on int_{i}\"):\n",
    "        t = df[f\"int_{i}\"].apply(double_value)\n",
    "    benchmark_results[\"apply\"][f\"int_{i}\"] = (time.time() - start_time) * 1000 / test_round\n",
    "    \n",
    "print(benchmark_results[\"apply\"])"
   ]
  },
  {
   "cell_type": "code",
   "execution_count": null,
   "metadata": {},
   "outputs": [
    {
     "name": "stderr",
     "output_type": "stream",
     "text": [
      "Sort on float_1: 100%|██████████| 100/100 [00:00<00:00, 114.42it/s]\n",
      "Sort on float_2: 100%|██████████| 100/100 [00:00<00:00, 112.45it/s]\n",
      "Sort on float_3: 100%|██████████| 100/100 [00:00<00:00, 111.90it/s]\n",
      "Sort on float_4: 100%|██████████| 100/100 [00:00<00:00, 110.97it/s]\n",
      "Sort on int_1: 100%|██████████| 100/100 [00:00<00:00, 137.14it/s]\n",
      "Sort on int_2: 100%|██████████| 100/100 [00:00<00:00, 137.09it/s]\n",
      "Sort on int_3: 100%|██████████| 100/100 [00:00<00:00, 137.01it/s]\n",
      "Sort on int_4: 100%|██████████| 100/100 [00:00<00:00, 136.97it/s]"
     ]
    },
    {
     "name": "stdout",
     "output_type": "stream",
     "text": [
      "{'float_1': 8.754463195800781, 'float_2': 8.899462223052979, 'float_3': 8.944213390350342, 'float_4': 9.023559093475342, 'int_1': 7.304623126983643, 'int_2': 7.300686836242676, 'int_3': 7.306938171386719, 'int_4': 7.312383651733398}\n"
     ]
    },
    {
     "name": "stderr",
     "output_type": "stream",
     "text": [
      "\n"
     ]
    }
   ],
   "source": [
    "# Sort 操作\n",
    "\n",
    "for i in range(1, float_count + 1):\n",
    "    start_time = time.time()\n",
    "    for _ in trange(test_round, desc=f\"Sort on float_{i}\"):\n",
    "        t = df.sort_values(f\"float_{i}\")\n",
    "    benchmark_results[\"sort\"][f\"float_{i}\"] = (time.time() - start_time) * 1000 / test_round\n",
    "for i in range(1, int_count + 1):\n",
    "    start_time = time.time()\n",
    "    for _ in trange(test_round, desc=f\"Sort on int_{i}\"):\n",
    "        t = df.sort_values(f\"int_{i}\")\n",
    "    benchmark_results[\"sort\"][f\"int_{i}\"] = (time.time() - start_time) * 1000 / test_round\n",
    "print(benchmark_results[\"sort\"])"
   ]
  },
  {
   "cell_type": "code",
   "execution_count": null,
   "metadata": {},
   "outputs": [
    {
     "name": "stdout",
     "output_type": "stream",
     "text": [
      "6676\n",
      "190860\n"
     ]
    },
    {
     "name": "stderr",
     "output_type": "stream",
     "text": [
      "Join on int_1: 100%|██████████| 100/100 [00:11<00:00,  8.35it/s]"
     ]
    },
    {
     "name": "stdout",
     "output_type": "stream",
     "text": [
      "{'int_1_0_10_vs_10_20': 119.7813868522644}\n"
     ]
    },
    {
     "name": "stderr",
     "output_type": "stream",
     "text": [
      "\n"
     ]
    }
   ],
   "source": [
    "# split data by int_1\n",
    "int_1_span = 7\n",
    "df_subset_l = df[df[\"int_1\"].between(0, int_1_span)]\n",
    "df_subset_r = df[df[\"int_1\"].between(int_1_span, int_1_span * 2)]\n",
    "\n",
    "# print subset len\n",
    "print(len(df_subset_l))\n",
    "print(len(df_subset_r))\n",
    "\n",
    "start_time = time.time()\n",
    "for i in trange(test_round, desc=\"Join on int_1\"):\n",
    "    t = df_subset_l.merge(df_subset_r, on=\"int_2\", how=\"left\")\n",
    "benchmark_results[\"join\"][\"int_1\"] = (time.time() - start_time) * 1000 / test_round\n",
    "\n",
    "print(benchmark_results[\"join\"])"
   ]
  },
  {
   "cell_type": "code",
   "execution_count": null,
   "metadata": {},
   "outputs": [
    {
     "name": "stderr",
     "output_type": "stream",
     "text": [
      "Groupby on Stkcd: 100%|██████████| 100/100 [00:01<00:00, 50.03it/s]"
     ]
    },
    {
     "name": "stdout",
     "output_type": "stream",
     "text": [
      "{'int_1': 19.998531341552734}\n"
     ]
    },
    {
     "name": "stderr",
     "output_type": "stream",
     "text": [
      "\n"
     ]
    }
   ],
   "source": [
    "agg_map = {\n",
    "    \"float_1\": [\"max\", \"min\", \"mean\", \"sum\"],\n",
    "    \"float_2\": [\"max\", \"min\", \"mean\", \"sum\"],\n",
    "    \"float_3\": [\"max\", \"min\", \"mean\", \"sum\"],\n",
    "    \"float_4\": [\"max\", \"min\", \"mean\", \"sum\"],\n",
    "    \"int_2\": [\"max\", \"min\", \"mean\", \"sum\"],\n",
    "    \"int_3\": [\"max\", \"min\", \"mean\", \"sum\"],\n",
    "    \"int_4\": [\"max\", \"min\", \"mean\", \"sum\"],\n",
    "}\n",
    "\n",
    "start_time = time.time()\n",
    "for i in trange(test_round, desc=\"Groupby on Stkcd\"):\n",
    "    t = df.groupby(\"int_1\").agg(agg_map)\n",
    "benchmark_results[\"groupby\"][\"int_1\"] = (time.time() - start_time) * 1000 / test_round\n",
    "print(benchmark_results[\"groupby\"])"
   ]
  },
  {
   "cell_type": "code",
   "execution_count": 15,
   "metadata": {},
   "outputs": [],
   "source": [
    "with open(\"../../results/cudf_syn_benchmark_results.json\", \"w\") as f:\n",
    "    json.dump(benchmark_results, f, indent=4)"
   ]
  }
 ],
 "metadata": {
  "kernelspec": {
   "display_name": "cudf",
   "language": "python",
   "name": "python3"
  },
  "language_info": {
   "codemirror_mode": {
    "name": "ipython",
    "version": 3
   },
   "file_extension": ".py",
   "mimetype": "text/x-python",
   "name": "python",
   "nbconvert_exporter": "python",
   "pygments_lexer": "ipython3",
   "version": "3.11.11"
  }
 },
 "nbformat": 4,
 "nbformat_minor": 2
}
