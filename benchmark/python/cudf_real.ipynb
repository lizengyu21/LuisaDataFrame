{
 "cells": [
  {
   "cell_type": "code",
   "execution_count": 1,
   "metadata": {},
   "outputs": [],
   "source": [
    "import cudf\n",
    "import time\n",
    "from tqdm import trange\n",
    "import pandas as pd\n",
    "import json"
   ]
  },
  {
   "cell_type": "code",
   "execution_count": 2,
   "metadata": {},
   "outputs": [],
   "source": [
    "dtypes = {\n",
    "    \"Stkcd\": \"int32\",\n",
    "    \"Opnprc\": \"float32\",\n",
    "    \"Hiprc\": \"float32\",\n",
    "    \"Loprc\": \"float32\",\n",
    "    \"Clsprc\": \"float32\",\n",
    "    \"PrevClsprc\": \"float32\",\n",
    "}\n",
    "\n",
    "df = cudf.read_csv(f\"../../data/TRD_Dalyr_with_PrevClsprc.csv\", dtype=dtypes)\n",
    "\n",
    "df[\"Trddt\"] = cudf.to_datetime(df[\"Trddt\"])\n",
    "test_round = 100"
   ]
  },
  {
   "cell_type": "code",
   "execution_count": 3,
   "metadata": {},
   "outputs": [],
   "source": [
    "benchmark_results = {\n",
    "    \"metadata\": {\n",
    "        \"test_rounds\": test_round,\n",
    "        \"data_size\": len(df),\n",
    "        \"timestamp\": time.strftime(\"%Y-%m-%d %H:%M:%S\")\n",
    "    },\n",
    "    \"Result\": {},\n",
    "}"
   ]
  },
  {
   "cell_type": "code",
   "execution_count": 4,
   "metadata": {},
   "outputs": [
    {
     "name": "stderr",
     "output_type": "stream",
     "text": [
      "Where on Stkcd: 100%|██████████| 100/100 [00:01<00:00, 81.61it/s]\n"
     ]
    },
    {
     "data": {
      "text/plain": [
       "12.270216941833496"
      ]
     },
     "execution_count": 4,
     "metadata": {},
     "output_type": "execute_result"
    }
   ],
   "source": [
    "\n",
    "start_time = time.time()\n",
    "for i in trange(test_round, desc=\"Where on Stkcd\"):\n",
    "    df[\"DailyReturn\"] = (df[\"Clsprc\"] - df[\"PrevClsprc\"]) / df[\"PrevClsprc\"] * 100.0\n",
    "    t = df[df[\"DailyReturn\"] > 0.0]\n",
    "    agg_dict = {\n",
    "        \"DailyReturn\": [\"max\", \"mean\"],\n",
    "        \"Trddt\": [\"count\",]\n",
    "    }\n",
    "    t = t.groupby(\"Stkcd\").agg(agg_dict)\n",
    "    t = t.sort_values((\"DailyReturn\", \"mean\"), ascending=False)\n",
    "benchmark_results[\"Result\"][\"DailyReturn\"] = (time.time() - start_time) * 1000 / test_round\n",
    "benchmark_results[\"Result\"][\"DailyReturn\"]"
   ]
  },
  {
   "cell_type": "code",
   "execution_count": 5,
   "metadata": {},
   "outputs": [
    {
     "data": {
      "text/html": [
       "<div>\n",
       "<style scoped>\n",
       "    .dataframe tbody tr th:only-of-type {\n",
       "        vertical-align: middle;\n",
       "    }\n",
       "\n",
       "    .dataframe tbody tr th {\n",
       "        vertical-align: top;\n",
       "    }\n",
       "\n",
       "    .dataframe thead th {\n",
       "        text-align: right;\n",
       "    }\n",
       "</style>\n",
       "<table border=\"1\" class=\"dataframe\">\n",
       "  <thead>\n",
       "    <tr style=\"text-align: right;\">\n",
       "      <th></th>\n",
       "      <th>Stkcd</th>\n",
       "      <th>Trddt</th>\n",
       "      <th>Opnprc</th>\n",
       "      <th>Hiprc</th>\n",
       "      <th>Loprc</th>\n",
       "      <th>Clsprc</th>\n",
       "      <th>PrevClsprc</th>\n",
       "    </tr>\n",
       "  </thead>\n",
       "  <tbody>\n",
       "    <tr>\n",
       "      <th>0</th>\n",
       "      <td>1</td>\n",
       "      <td>2020-02-19</td>\n",
       "      <td>15.10</td>\n",
       "      <td>15.370000</td>\n",
       "      <td>15.080000</td>\n",
       "      <td>15.24</td>\n",
       "      <td>&lt;NA&gt;</td>\n",
       "    </tr>\n",
       "    <tr>\n",
       "      <th>1</th>\n",
       "      <td>1</td>\n",
       "      <td>2020-02-20</td>\n",
       "      <td>15.27</td>\n",
       "      <td>15.620001</td>\n",
       "      <td>15.100000</td>\n",
       "      <td>15.59</td>\n",
       "      <td>15.23999977</td>\n",
       "    </tr>\n",
       "    <tr>\n",
       "      <th>2</th>\n",
       "      <td>1</td>\n",
       "      <td>2020-02-21</td>\n",
       "      <td>15.49</td>\n",
       "      <td>15.720000</td>\n",
       "      <td>15.450000</td>\n",
       "      <td>15.58</td>\n",
       "      <td>15.59000015</td>\n",
       "    </tr>\n",
       "    <tr>\n",
       "      <th>3</th>\n",
       "      <td>1</td>\n",
       "      <td>2020-02-24</td>\n",
       "      <td>15.46</td>\n",
       "      <td>15.460000</td>\n",
       "      <td>15.150001</td>\n",
       "      <td>15.23</td>\n",
       "      <td>15.57999992</td>\n",
       "    </tr>\n",
       "    <tr>\n",
       "      <th>4</th>\n",
       "      <td>1</td>\n",
       "      <td>2020-02-25</td>\n",
       "      <td>15.00</td>\n",
       "      <td>15.130000</td>\n",
       "      <td>14.780000</td>\n",
       "      <td>15.04</td>\n",
       "      <td>15.22999954</td>\n",
       "    </tr>\n",
       "  </tbody>\n",
       "</table>\n",
       "</div>"
      ],
      "text/plain": [
       "   Stkcd      Trddt  Opnprc      Hiprc      Loprc  Clsprc   PrevClsprc\n",
       "0      1 2020-02-19   15.10  15.370000  15.080000   15.24         <NA>\n",
       "1      1 2020-02-20   15.27  15.620001  15.100000   15.59  15.23999977\n",
       "2      1 2020-02-21   15.49  15.720000  15.450000   15.58  15.59000015\n",
       "3      1 2020-02-24   15.46  15.460000  15.150001   15.23  15.57999992\n",
       "4      1 2020-02-25   15.00  15.130000  14.780000   15.04  15.22999954"
      ]
     },
     "execution_count": 5,
     "metadata": {},
     "output_type": "execute_result"
    }
   ],
   "source": [
    "df = df.drop(\"DailyReturn\", axis=1)\n",
    "# df.groupby(\"Stkcd\").resample(\"90D\").agg(agg_dict)\n",
    "df.head()"
   ]
  },
  {
   "cell_type": "code",
   "execution_count": 6,
   "metadata": {},
   "outputs": [],
   "source": [
    "with open(\"../../results/cudf_real_benchmark_results.json\", \"w\") as f:\n",
    "    json.dump(benchmark_results, f, indent=4)"
   ]
  }
 ],
 "metadata": {
  "kernelspec": {
   "display_name": "cudf",
   "language": "python",
   "name": "python3"
  },
  "language_info": {
   "codemirror_mode": {
    "name": "ipython",
    "version": 3
   },
   "file_extension": ".py",
   "mimetype": "text/x-python",
   "name": "python",
   "nbconvert_exporter": "python",
   "pygments_lexer": "ipython3",
   "version": "3.11.11"
  }
 },
 "nbformat": 4,
 "nbformat_minor": 2
}
