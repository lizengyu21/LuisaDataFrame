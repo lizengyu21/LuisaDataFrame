{
 "cells": [
  {
   "cell_type": "code",
   "execution_count": 8,
   "metadata": {},
   "outputs": [],
   "source": [
    "import pandas as pd\n",
    "import time\n",
    "from tqdm import trange\n",
    "import json"
   ]
  },
  {
   "cell_type": "code",
   "execution_count": 9,
   "metadata": {},
   "outputs": [],
   "source": [
    "dtypes = {\n",
    "    \"Stkcd\": \"int32\",\n",
    "    \"Opnprc\": \"float32\",\n",
    "    \"Hiprc\": \"float32\",\n",
    "    \"Loprc\": \"float32\",\n",
    "    \"Clsprc\": \"float32\"\n",
    "}\n",
    "df_list = []\n",
    "for i in range(6):\n",
    "    df = pd.read_csv(f\"../../data/TRD_Dalyr{i}.csv\", dtype=dtypes)\n",
    "    df_list.append(df)\n",
    "\n",
    "df = pd.concat(df_list, axis=0, ignore_index=True)\n",
    "df[\"Trddt\"] = pd.to_datetime(df[\"Trddt\"])\n",
    "test_round = 100"
   ]
  },
  {
   "cell_type": "code",
   "execution_count": 10,
   "metadata": {},
   "outputs": [],
   "source": [
    "benchmark_results = {\n",
    "    \"metadata\": {\n",
    "        \"test_rounds\": test_round,\n",
    "        \"data_size\": len(df),\n",
    "        \"timestamp\": time.strftime(\"%Y-%m-%d %H:%M:%S\")\n",
    "    },\n",
    "    \"where\": {},\n",
    "    \"apply\": {},\n",
    "    \"sort\": {},\n",
    "    \"join\": {},\n",
    "    \"groupby\": {},\n",
    "    \"interval\": {}\n",
    "}"
   ]
  },
  {
   "cell_type": "code",
   "execution_count": 11,
   "metadata": {},
   "outputs": [
    {
     "name": "stderr",
     "output_type": "stream",
     "text": [
      "Where on Stkcd: 100%|██████████| 100/100 [00:02<00:00, 47.24it/s]\n",
      "Where on Clsprc: 100%|██████████| 100/100 [00:03<00:00, 32.87it/s]\n"
     ]
    }
   ],
   "source": [
    "start_time = time.time()\n",
    "for i in trange(test_round, desc=\"Where on Stkcd\"):\n",
    "    t = df[df[\"Stkcd\"] <= 20000]\n",
    "benchmark_results[\"where\"][\"Stkcd\"] = (time.time() - start_time) * 1000 / test_round\n",
    "\n",
    "start_time = time.time()\n",
    "for i in trange(test_round, desc=\"Where on Clsprc\"):\n",
    "    t = df[df[\"Clsprc\"] > 15.0]\n",
    "benchmark_results[\"where\"][\"Clsprc\"] = (time.time() - start_time) * 1000 / test_round"
   ]
  },
  {
   "cell_type": "code",
   "execution_count": 12,
   "metadata": {},
   "outputs": [
    {
     "name": "stderr",
     "output_type": "stream",
     "text": [
      "Apply on Stkcd: 100%|██████████| 100/100 [00:01<00:00, 94.52it/s]\n",
      "Apply on Opnprc: 100%|██████████| 100/100 [00:00<00:00, 166.78it/s]\n"
     ]
    }
   ],
   "source": [
    "start_time = time.time()\n",
    "for i in trange(test_round, desc=\"Apply on Stkcd\"):\n",
    "    t = (df[\"Clsprc\"] - df[\"Opnprc\"]) / (df[\"Hiprc\"] - df[\"Loprc\"])\n",
    "benchmark_results[\"apply\"][\"Cls-Opn\"] = (time.time() - start_time) * 1000 / test_round\n",
    "\n",
    "start_time = time.time()\n",
    "for i in trange(test_round, desc=\"Apply on Opnprc\"):\n",
    "    t = (df[\"Clsprc\"] - df[\"Opnprc\"]) * 100\n",
    "benchmark_results[\"apply\"][\"Delta\"] = (time.time() - start_time) * 1000 / test_round"
   ]
  },
  {
   "cell_type": "code",
   "execution_count": 13,
   "metadata": {},
   "outputs": [
    {
     "name": "stderr",
     "output_type": "stream",
     "text": [
      "Apply on Stkcd: 100%|██████████| 100/100 [01:22<00:00,  1.21it/s]\n",
      "Apply on Opnprc: 100%|██████████| 100/100 [00:53<00:00,  1.87it/s]\n"
     ]
    }
   ],
   "source": [
    "def double_value(x):\n",
    "    return x * 2\n",
    "\n",
    "start_time = time.time()\n",
    "for i in trange(test_round, desc=\"Apply on Stkcd\"):\n",
    "    t = df[\"Stkcd\"].apply(double_value)\n",
    "benchmark_results[\"apply\"][\"Stkcd\"] = (time.time() - start_time) * 1000 / test_round\n",
    "\n",
    "start_time = time.time()\n",
    "for i in trange(test_round, desc=\"Apply on Opnprc\"):\n",
    "    t = df[\"Opnprc\"].apply(double_value)\n",
    "benchmark_results[\"apply\"][\"Opnprc\"] = (time.time() - start_time) * 1000 / test_round"
   ]
  },
  {
   "cell_type": "code",
   "execution_count": 14,
   "metadata": {},
   "outputs": [
    {
     "data": {
      "text/plain": [
       "{'Cls-Opn': 10.591812133789062,\n",
       " 'Delta': 6.005873680114746,\n",
       " 'Stkcd': 824.2635464668274,\n",
       " 'Opnprc': 533.8800764083862}"
      ]
     },
     "execution_count": 14,
     "metadata": {},
     "output_type": "execute_result"
    }
   ],
   "source": [
    "benchmark_results[\"apply\"]"
   ]
  },
  {
   "cell_type": "code",
   "execution_count": 6,
   "metadata": {},
   "outputs": [
    {
     "name": "stderr",
     "output_type": "stream",
     "text": [
      "Sort on Stkcd: 100%|██████████| 100/100 [00:17<00:00,  5.57it/s]\n",
      "Sort on Clsprc: 100%|██████████| 100/100 [00:29<00:00,  3.40it/s]\n",
      "Sort on Hiprc: 100%|██████████| 100/100 [00:29<00:00,  3.39it/s]\n"
     ]
    }
   ],
   "source": [
    "# Sort 操作\n",
    "start_time = time.time()\n",
    "for i in trange(test_round, desc=\"Sort on Stkcd\"):\n",
    "    t = df.sort_values(\"Stkcd\")\n",
    "benchmark_results[\"sort\"][\"Stkcd\"] = (time.time() - start_time) * 1000 / test_round\n",
    "\n",
    "start_time = time.time()\n",
    "for i in trange(test_round, desc=\"Sort on Clsprc\"):\n",
    "    t = df.sort_values(\"Clsprc\")\n",
    "benchmark_results[\"sort\"][\"Clsprc\"] = (time.time() - start_time) * 1000 / test_round\n",
    "\n",
    "start_time = time.time()\n",
    "for i in trange(test_round, desc=\"Sort on Hiprc\"):\n",
    "    t = df.sort_values(\"Hiprc\")\n",
    "benchmark_results[\"sort\"][\"Hiprc\"] = (time.time() - start_time) * 1000 / test_round"
   ]
  },
  {
   "cell_type": "code",
   "execution_count": 7,
   "metadata": {},
   "outputs": [
    {
     "name": "stderr",
     "output_type": "stream",
     "text": [
      "Join on Stkcd: 100%|██████████| 100/100 [01:37<00:00,  1.02it/s]\n"
     ]
    }
   ],
   "source": [
    "# Join 操作\n",
    "stkcd_span = 1000\n",
    "df_subset_0_20 = df[df[\"Stkcd\"].between(0, stkcd_span)]\n",
    "df_subset_20_40 = df[df[\"Stkcd\"].between(stkcd_span, stkcd_span * 2)]\n",
    "\n",
    "start_time = time.time()\n",
    "for i in trange(test_round, desc=\"Join on Stkcd\"):\n",
    "    t = df_subset_0_20.merge(df_subset_20_40, on=\"Trddt\", how=\"left\")\n",
    "benchmark_results[\"join\"][\"Stkcd_0_20_vs_20_40\"] = (time.time() - start_time) * 1000 / test_round"
   ]
  },
  {
   "cell_type": "code",
   "execution_count": 8,
   "metadata": {},
   "outputs": [
    {
     "name": "stderr",
     "output_type": "stream",
     "text": [
      "Groupby on Stkcd (Clsprc): 100%|██████████| 100/100 [00:21<00:00,  4.65it/s]\n"
     ]
    }
   ],
   "source": [
    "agg_dict = {\n",
    "    \"Clsprc\": [\"max\", \"min\", \"mean\"],\n",
    "    \"Opnprc\": [\"max\", \"min\", \"mean\"],\n",
    "    \"Hiprc\": [\"max\", \"min\", \"mean\"],\n",
    "    \"Loprc\": [\"max\", \"min\", \"mean\"]\n",
    "}\n",
    "start_time = time.time()\n",
    "for i in trange(test_round, desc=\"Groupby on Stkcd (Clsprc)\"):\n",
    "    t = df.groupby(\"Stkcd\").agg(agg_dict)\n",
    "benchmark_results[\"groupby\"][\"Stkcd_Clsprc\"] = (time.time() - start_time) * 1000 / test_round"
   ]
  },
  {
   "cell_type": "code",
   "execution_count": 9,
   "metadata": {},
   "outputs": [],
   "source": [
    "df = df.set_index(\"Trddt\")\n",
    "interval_test_round = test_round // int(10)"
   ]
  },
  {
   "cell_type": "code",
   "execution_count": 10,
   "metadata": {},
   "outputs": [
    {
     "name": "stderr",
     "output_type": "stream",
     "text": [
      "Interval 30D: 100%|██████████| 10/10 [04:20<00:00, 26.01s/it]\n"
     ]
    }
   ],
   "source": [
    "start_time = time.time()\n",
    "for i in trange(interval_test_round, desc=\"Interval 30D\"):\n",
    "    t = df.groupby(\"Stkcd\").resample(\"30D\").agg(agg_dict)\n",
    "benchmark_results[\"interval\"][\"30D\"] = (time.time() - start_time) * 1000 / interval_test_round"
   ]
  },
  {
   "cell_type": "code",
   "execution_count": 11,
   "metadata": {},
   "outputs": [
    {
     "name": "stderr",
     "output_type": "stream",
     "text": [
      "Interval 90D: 100%|██████████| 10/10 [04:18<00:00, 25.83s/it]\n"
     ]
    }
   ],
   "source": [
    "start_time = time.time()\n",
    "for i in trange(interval_test_round, desc=\"Interval 90D\"):\n",
    "    t = df.groupby(\"Stkcd\").resample(\"90D\").agg(agg_dict)\n",
    "benchmark_results[\"interval\"][\"90D\"] = (time.time() - start_time) * 1000 / interval_test_round"
   ]
  },
  {
   "cell_type": "code",
   "execution_count": 12,
   "metadata": {},
   "outputs": [
    {
     "name": "stderr",
     "output_type": "stream",
     "text": [
      "Interval 365D: 100%|██████████| 10/10 [04:18<00:00, 25.86s/it]\n"
     ]
    }
   ],
   "source": [
    "start_time = time.time()\n",
    "for i in trange(interval_test_round, desc=\"Interval 365D\"):\n",
    "    t = df.groupby(\"Stkcd\").resample(\"365D\").agg(agg_dict)\n",
    "benchmark_results[\"interval\"][\"365D\"] = (time.time() - start_time) * 1000 / interval_test_round"
   ]
  },
  {
   "cell_type": "code",
   "execution_count": 13,
   "metadata": {},
   "outputs": [
    {
     "name": "stdout",
     "output_type": "stream",
     "text": [
      "Benchmark results saved to 'pandas_benchmark_results.json'\n",
      "{'metadata': {'test_rounds': 100, 'data_size': 5897417, 'timestamp': '2025-03-25 18:38:22'}, 'where': {'Stkcd': 19.680538177490234, 'Clsprc': 31.834053993225098}, 'apply': {'Stkcd': 807.4906301498413, 'Opnprc': 548.7237620353699}, 'sort': {'Stkcd': 179.55297708511353, 'Clsprc': 294.1118812561035, 'Hiprc': 295.24622917175293}, 'join': {'Stkcd_0_20_vs_20_40': 976.5320324897766}, 'groupby': {'Stkcd_Clsprc': 215.29688358306885}, 'interval': {'30D': 26009.100246429443, '90D': 25825.72753429413, '365D': 25861.178874969482}}\n"
     ]
    }
   ],
   "source": [
    "with open(\"../../results/pandas_benchmark_results.json\", \"w\") as f:\n",
    "    json.dump(benchmark_results, f, indent=4)\n",
    "\n",
    "# 打印结果\n",
    "print(\"Benchmark results saved to 'pandas_benchmark_results.json'\")\n",
    "print(benchmark_results)"
   ]
  }
 ],
 "metadata": {
  "kernelspec": {
   "display_name": "cudf",
   "language": "python",
   "name": "python3"
  },
  "language_info": {
   "codemirror_mode": {
    "name": "ipython",
    "version": 3
   },
   "file_extension": ".py",
   "mimetype": "text/x-python",
   "name": "python",
   "nbconvert_exporter": "python",
   "pygments_lexer": "ipython3",
   "version": "3.11.11"
  }
 },
 "nbformat": 4,
 "nbformat_minor": 2
}
