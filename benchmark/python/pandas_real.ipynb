{
 "cells": [
  {
   "cell_type": "code",
   "execution_count": 1,
   "metadata": {},
   "outputs": [],
   "source": [
    "import pandas as pd\n",
    "import time\n",
    "from tqdm import trange\n",
    "import json"
   ]
  },
  {
   "cell_type": "code",
   "execution_count": 2,
   "metadata": {},
   "outputs": [],
   "source": [
    "dtypes = {\n",
    "    \"Stkcd\": \"int32\",\n",
    "    \"Opnprc\": \"float32\",\n",
    "    \"Hiprc\": \"float32\",\n",
    "    \"Loprc\": \"float32\",\n",
    "    \"Clsprc\": \"float32\",\n",
    "    \"PrevClsprc\": \"float32\",\n",
    "}\n",
    "\n",
    "df = pd.read_csv(f\"../../data/TRD_Dalyr_with_PrevClsprc.csv\", dtype=dtypes)\n",
    "\n",
    "df[\"Trddt\"] = pd.to_datetime(df[\"Trddt\"])\n",
    "test_round = 100"
   ]
  },
  {
   "cell_type": "code",
   "execution_count": 3,
   "metadata": {},
   "outputs": [],
   "source": [
    "benchmark_results = {\n",
    "    \"metadata\": {\n",
    "        \"test_rounds\": test_round,\n",
    "        \"data_size\": len(df),\n",
    "        \"timestamp\": time.strftime(\"%Y-%m-%d %H:%M:%S\")\n",
    "    },\n",
    "    \"Result\": {},\n",
    "}"
   ]
  },
  {
   "cell_type": "code",
   "execution_count": 4,
   "metadata": {},
   "outputs": [
    {
     "name": "stderr",
     "output_type": "stream",
     "text": [
      "Where on Stkcd: 100%|██████████| 100/100 [00:11<00:00,  8.85it/s]\n"
     ]
    },
    {
     "data": {
      "text/plain": [
       "113.02371263504028"
      ]
     },
     "execution_count": 4,
     "metadata": {},
     "output_type": "execute_result"
    }
   ],
   "source": [
    "\n",
    "start_time = time.time()\n",
    "for i in trange(test_round, desc=\"Where on Stkcd\"):\n",
    "    df[\"DailyReturn\"] = (df[\"Clsprc\"] - df[\"PrevClsprc\"]) / df[\"PrevClsprc\"] * 100.0\n",
    "    t = df[df[\"DailyReturn\"] > 0.0]\n",
    "    agg_dict = {\n",
    "        \"DailyReturn\": [\"max\", \"mean\"],\n",
    "        \"Trddt\": [\"count\",]\n",
    "    }\n",
    "    t = t.groupby(\"Stkcd\").agg(agg_dict)\n",
    "    t = t.sort_values((\"DailyReturn\", \"mean\"), ascending=False)\n",
    "benchmark_results[\"Result\"][\"DailyReturn\"] = (time.time() - start_time) * 1000 / test_round\n",
    "benchmark_results[\"Result\"][\"DailyReturn\"]"
   ]
  },
  {
   "cell_type": "code",
   "execution_count": 5,
   "metadata": {},
   "outputs": [
    {
     "data": {
      "text/html": [
       "<div>\n",
       "<style scoped>\n",
       "    .dataframe tbody tr th:only-of-type {\n",
       "        vertical-align: middle;\n",
       "    }\n",
       "\n",
       "    .dataframe tbody tr th {\n",
       "        vertical-align: top;\n",
       "    }\n",
       "\n",
       "    .dataframe thead th {\n",
       "        text-align: right;\n",
       "    }\n",
       "</style>\n",
       "<table border=\"1\" class=\"dataframe\">\n",
       "  <thead>\n",
       "    <tr style=\"text-align: right;\">\n",
       "      <th></th>\n",
       "      <th>Stkcd</th>\n",
       "      <th>Trddt</th>\n",
       "      <th>Opnprc</th>\n",
       "      <th>Hiprc</th>\n",
       "      <th>Loprc</th>\n",
       "      <th>Clsprc</th>\n",
       "      <th>PrevClsprc</th>\n",
       "    </tr>\n",
       "  </thead>\n",
       "  <tbody>\n",
       "    <tr>\n",
       "      <th>0</th>\n",
       "      <td>1</td>\n",
       "      <td>2020-02-19</td>\n",
       "      <td>15.10</td>\n",
       "      <td>15.37</td>\n",
       "      <td>15.08</td>\n",
       "      <td>15.24</td>\n",
       "      <td>NaN</td>\n",
       "    </tr>\n",
       "    <tr>\n",
       "      <th>1</th>\n",
       "      <td>1</td>\n",
       "      <td>2020-02-20</td>\n",
       "      <td>15.27</td>\n",
       "      <td>15.62</td>\n",
       "      <td>15.10</td>\n",
       "      <td>15.59</td>\n",
       "      <td>15.24</td>\n",
       "    </tr>\n",
       "    <tr>\n",
       "      <th>2</th>\n",
       "      <td>1</td>\n",
       "      <td>2020-02-21</td>\n",
       "      <td>15.49</td>\n",
       "      <td>15.72</td>\n",
       "      <td>15.45</td>\n",
       "      <td>15.58</td>\n",
       "      <td>15.59</td>\n",
       "    </tr>\n",
       "    <tr>\n",
       "      <th>3</th>\n",
       "      <td>1</td>\n",
       "      <td>2020-02-24</td>\n",
       "      <td>15.46</td>\n",
       "      <td>15.46</td>\n",
       "      <td>15.15</td>\n",
       "      <td>15.23</td>\n",
       "      <td>15.58</td>\n",
       "    </tr>\n",
       "    <tr>\n",
       "      <th>4</th>\n",
       "      <td>1</td>\n",
       "      <td>2020-02-25</td>\n",
       "      <td>15.00</td>\n",
       "      <td>15.13</td>\n",
       "      <td>14.78</td>\n",
       "      <td>15.04</td>\n",
       "      <td>15.23</td>\n",
       "    </tr>\n",
       "  </tbody>\n",
       "</table>\n",
       "</div>"
      ],
      "text/plain": [
       "   Stkcd      Trddt  Opnprc  Hiprc  Loprc  Clsprc  PrevClsprc\n",
       "0      1 2020-02-19   15.10  15.37  15.08   15.24         NaN\n",
       "1      1 2020-02-20   15.27  15.62  15.10   15.59       15.24\n",
       "2      1 2020-02-21   15.49  15.72  15.45   15.58       15.59\n",
       "3      1 2020-02-24   15.46  15.46  15.15   15.23       15.58\n",
       "4      1 2020-02-25   15.00  15.13  14.78   15.04       15.23"
      ]
     },
     "execution_count": 5,
     "metadata": {},
     "output_type": "execute_result"
    }
   ],
   "source": [
    "df = df.drop(\"DailyReturn\", axis=1)\n",
    "# df.groupby(\"Stkcd\").resample(\"90D\").agg(agg_dict)\n",
    "df.head()"
   ]
  },
  {
   "cell_type": "code",
   "execution_count": 6,
   "metadata": {},
   "outputs": [],
   "source": [
    "agg_dict = {\n",
    "    \"Clsprc\": [\"mean\"],\n",
    "    \"Opnprc\": [\"mean\"],\n",
    "    \"Hiprc\": [\"mean\"],\n",
    "    \"Loprc\": [\"mean\"],\n",
    "    \"PrevClsprc\": [\"mean\"]\n",
    "}"
   ]
  },
  {
   "cell_type": "code",
   "execution_count": 7,
   "metadata": {},
   "outputs": [
    {
     "data": {
      "text/html": [
       "<div>\n",
       "<style scoped>\n",
       "    .dataframe tbody tr th:only-of-type {\n",
       "        vertical-align: middle;\n",
       "    }\n",
       "\n",
       "    .dataframe tbody tr th {\n",
       "        vertical-align: top;\n",
       "    }\n",
       "\n",
       "    .dataframe thead th {\n",
       "        text-align: right;\n",
       "    }\n",
       "</style>\n",
       "<table border=\"1\" class=\"dataframe\">\n",
       "  <thead>\n",
       "    <tr style=\"text-align: right;\">\n",
       "      <th></th>\n",
       "      <th>Stkcd</th>\n",
       "      <th>Trddt</th>\n",
       "      <th>Opnprc</th>\n",
       "      <th>Hiprc</th>\n",
       "      <th>Loprc</th>\n",
       "      <th>Clsprc</th>\n",
       "      <th>PrevClsprc</th>\n",
       "    </tr>\n",
       "  </thead>\n",
       "  <tbody>\n",
       "    <tr>\n",
       "      <th>0</th>\n",
       "      <td>1</td>\n",
       "      <td>2020-02-19</td>\n",
       "      <td>15.10</td>\n",
       "      <td>15.37</td>\n",
       "      <td>15.08</td>\n",
       "      <td>15.24</td>\n",
       "      <td>NaN</td>\n",
       "    </tr>\n",
       "    <tr>\n",
       "      <th>1</th>\n",
       "      <td>1</td>\n",
       "      <td>2020-02-20</td>\n",
       "      <td>15.27</td>\n",
       "      <td>15.62</td>\n",
       "      <td>15.10</td>\n",
       "      <td>15.59</td>\n",
       "      <td>15.24</td>\n",
       "    </tr>\n",
       "    <tr>\n",
       "      <th>2</th>\n",
       "      <td>1</td>\n",
       "      <td>2020-02-21</td>\n",
       "      <td>15.49</td>\n",
       "      <td>15.72</td>\n",
       "      <td>15.45</td>\n",
       "      <td>15.58</td>\n",
       "      <td>15.59</td>\n",
       "    </tr>\n",
       "    <tr>\n",
       "      <th>3</th>\n",
       "      <td>1</td>\n",
       "      <td>2020-02-24</td>\n",
       "      <td>15.46</td>\n",
       "      <td>15.46</td>\n",
       "      <td>15.15</td>\n",
       "      <td>15.23</td>\n",
       "      <td>15.58</td>\n",
       "    </tr>\n",
       "    <tr>\n",
       "      <th>4</th>\n",
       "      <td>1</td>\n",
       "      <td>2020-02-25</td>\n",
       "      <td>15.00</td>\n",
       "      <td>15.13</td>\n",
       "      <td>14.78</td>\n",
       "      <td>15.04</td>\n",
       "      <td>15.23</td>\n",
       "    </tr>\n",
       "  </tbody>\n",
       "</table>\n",
       "</div>"
      ],
      "text/plain": [
       "   Stkcd      Trddt  Opnprc  Hiprc  Loprc  Clsprc  PrevClsprc\n",
       "0      1 2020-02-19   15.10  15.37  15.08   15.24         NaN\n",
       "1      1 2020-02-20   15.27  15.62  15.10   15.59       15.24\n",
       "2      1 2020-02-21   15.49  15.72  15.45   15.58       15.59\n",
       "3      1 2020-02-24   15.46  15.46  15.15   15.23       15.58\n",
       "4      1 2020-02-25   15.00  15.13  14.78   15.04       15.23"
      ]
     },
     "execution_count": 7,
     "metadata": {},
     "output_type": "execute_result"
    }
   ],
   "source": [
    "df.head()"
   ]
  },
  {
   "cell_type": "code",
   "execution_count": 8,
   "metadata": {},
   "outputs": [],
   "source": [
    "df = df.set_index(\"Trddt\")\n",
    "test_round = 10"
   ]
  },
  {
   "cell_type": "code",
   "execution_count": 9,
   "metadata": {},
   "outputs": [
    {
     "name": "stderr",
     "output_type": "stream",
     "text": [
      "Where on Stkcd: 100%|██████████| 10/10 [01:52<00:00, 11.21s/it]\n"
     ]
    },
    {
     "data": {
      "text/plain": [
       "11214.395880699158"
      ]
     },
     "execution_count": 9,
     "metadata": {},
     "output_type": "execute_result"
    }
   ],
   "source": [
    "start_time = time.time()\n",
    "for i in trange(test_round, desc=\"Where on Stkcd\"):\n",
    "    t = df.groupby(\"Stkcd\").resample(\"7D\").agg(agg_dict)\n",
    "    t[\"WeeklyReturn\"] = (t[(\"Clsprc\", \"mean\")] - t[(\"PrevClsprc\", \"mean\")]) / t[(\"PrevClsprc\", \"mean\")] * 100.0\n",
    "    t = t[t[\"WeeklyReturn\"] > 0.0]\n",
    "    agg_dict2 = {\n",
    "        (\"WeeklyReturn\", \"\"): [\"max\", \"mean\"],\n",
    "        ('Clsprc', 'mean'): [\"count\",]\n",
    "    }\n",
    "    t = t.groupby(\"Stkcd\").agg(agg_dict2)\n",
    "    t = t.sort_values((\"WeeklyReturn\", \"\", \"mean\"), ascending=False)\n",
    "benchmark_results[\"Result\"][\"WeeklyReturn\"] = (time.time() - start_time) * 1000 / test_round\n",
    "benchmark_results[\"Result\"][\"WeeklyReturn\"]"
   ]
  },
  {
   "cell_type": "code",
   "execution_count": 10,
   "metadata": {},
   "outputs": [
    {
     "name": "stderr",
     "output_type": "stream",
     "text": [
      "Where on Stkcd: 100%|██████████| 10/10 [01:50<00:00, 11.01s/it]\n"
     ]
    },
    {
     "data": {
      "text/plain": [
       "11006.831574440002"
      ]
     },
     "execution_count": 10,
     "metadata": {},
     "output_type": "execute_result"
    }
   ],
   "source": [
    "start_time = time.time()\n",
    "for i in trange(test_round, desc=\"Where on Stkcd\"):\n",
    "    t = df.groupby(\"Stkcd\").resample(\"30D\").agg(agg_dict)\n",
    "    t[\"MonthlyReturn\"] = (t[(\"Clsprc\", \"mean\")] - t[(\"PrevClsprc\", \"mean\")]) / t[(\"PrevClsprc\", \"mean\")] * 100.0\n",
    "    t = t[t[\"MonthlyReturn\"] > 0.0]\n",
    "    agg_dict2 = {\n",
    "        (\"MonthlyReturn\", \"\"): [\"max\", \"mean\"],\n",
    "        ('Clsprc', 'mean'): [\"count\",]\n",
    "    }\n",
    "    t = t.groupby(\"Stkcd\").agg(agg_dict2)\n",
    "    t = t.sort_values((\"MonthlyReturn\", \"\", \"mean\"), ascending=False)\n",
    "benchmark_results[\"Result\"][\"MonthlyReturn\"] = (time.time() - start_time) * 1000 / test_round\n",
    "benchmark_results[\"Result\"][\"MonthlyReturn\"]"
   ]
  },
  {
   "cell_type": "code",
   "execution_count": 11,
   "metadata": {},
   "outputs": [
    {
     "name": "stderr",
     "output_type": "stream",
     "text": [
      "Where on Stkcd: 100%|██████████| 10/10 [01:49<00:00, 10.94s/it]\n"
     ]
    },
    {
     "data": {
      "text/plain": [
       "10940.002036094666"
      ]
     },
     "execution_count": 11,
     "metadata": {},
     "output_type": "execute_result"
    }
   ],
   "source": [
    "start_time = time.time()\n",
    "for i in trange(test_round, desc=\"Where on Stkcd\"):\n",
    "    t = df.groupby(\"Stkcd\").resample(\"365D\").agg(agg_dict)\n",
    "    t[\"YearlyReturn\"] = (t[(\"Clsprc\", \"mean\")] - t[(\"PrevClsprc\", \"mean\")]) / t[(\"PrevClsprc\", \"mean\")] * 100.0\n",
    "    t = t[t[\"YearlyReturn\"] > 0.0]\n",
    "    agg_dict2 = {\n",
    "        (\"YearlyReturn\", \"\"): [\"max\", \"mean\"],\n",
    "        ('Clsprc', 'mean'): [\"count\",]\n",
    "    }\n",
    "    t = t.groupby(\"Stkcd\").agg(agg_dict2)\n",
    "    t = t.sort_values((\"YearlyReturn\", \"\", \"mean\"), ascending=False)\n",
    "benchmark_results[\"Result\"][\"YearlyReturn\"] = (time.time() - start_time) * 1000 / test_round\n",
    "benchmark_results[\"Result\"][\"YearlyReturn\"]"
   ]
  },
  {
   "cell_type": "code",
   "execution_count": 12,
   "metadata": {},
   "outputs": [
    {
     "name": "stdout",
     "output_type": "stream",
     "text": [
      "Benchmark results saved to 'pandas_real_benchmark_results.json'\n",
      "{'metadata': {'test_rounds': 100, 'data_size': 5897417, 'timestamp': '2025-05-08 21:09:44'}, 'Result': {'DailyReturn': 113.02371263504028, 'WeeklyReturn': 11214.395880699158, 'MonthlyReturn': 11006.831574440002, 'YearlyReturn': 10940.002036094666}}\n"
     ]
    }
   ],
   "source": [
    "with open(\"../../results/pandas_real_benchmark_results.json\", \"w\") as f:\n",
    "    json.dump(benchmark_results, f, indent=4)\n",
    "\n",
    "# 打印结果\n",
    "print(\"Benchmark results saved to 'pandas_real_benchmark_results.json'\")\n",
    "print(benchmark_results)"
   ]
  }
 ],
 "metadata": {
  "kernelspec": {
   "display_name": "cudf",
   "language": "python",
   "name": "python3"
  },
  "language_info": {
   "codemirror_mode": {
    "name": "ipython",
    "version": 3
   },
   "file_extension": ".py",
   "mimetype": "text/x-python",
   "name": "python",
   "nbconvert_exporter": "python",
   "pygments_lexer": "ipython3",
   "version": "3.11.11"
  }
 },
 "nbformat": 4,
 "nbformat_minor": 2
}
