{
 "cells": [
  {
   "cell_type": "code",
   "execution_count": 16,
   "metadata": {},
   "outputs": [],
   "source": [
    "import cudf\n",
    "import time\n",
    "from tqdm import trange\n",
    "import pandas as pd\n",
    "import json"
   ]
  },
  {
   "cell_type": "code",
   "execution_count": 17,
   "metadata": {},
   "outputs": [],
   "source": [
    "dtypes = {\n",
    "    \"Stkcd\" : \"int32\",\n",
    "    \"Opnprc\": \"float32\",\n",
    "    \"Hiprc\": \"float32\",\n",
    "    \"Loprc\": \"float32\",\n",
    "    \"Clsprc\": \"float32\"\n",
    "}\n",
    "df_list = []\n",
    "for i in range(6):\n",
    "    df = cudf.read_csv(f\"../../data/TRD_Dalyr{i}.csv\", dtype=dtypes)\n",
    "    df_list.append(df)\n",
    "\n",
    "df = cudf.concat(df_list, axis=0, ignore_index=True)\n",
    "df[\"Trddt\"] = cudf.to_datetime(df[\"Trddt\"])\n",
    "test_round = 100"
   ]
  },
  {
   "cell_type": "code",
   "execution_count": 18,
   "metadata": {},
   "outputs": [],
   "source": [
    "benchmark_results = {\n",
    "    \"metadata\": {\n",
    "        \"test_rounds\": test_round,\n",
    "        \"data_size\": len(df),\n",
    "        \"timestamp\": time.strftime(\"%Y-%m-%d %H:%M:%S\")\n",
    "    },\n",
    "    \"where\": {},\n",
    "    \"apply\": {},\n",
    "    \"sort\": {},\n",
    "    \"join\": {},\n",
    "    \"groupby\": {},\n",
    "}"
   ]
  },
  {
   "cell_type": "code",
   "execution_count": 19,
   "metadata": {},
   "outputs": [
    {
     "name": "stderr",
     "output_type": "stream",
     "text": [
      "Where on Stkcd: 100%|██████████| 100/100 [00:00<00:00, 107.84it/s]\n",
      "Where on Clsprc: 100%|██████████| 100/100 [00:00<00:00, 106.97it/s]\n"
     ]
    }
   ],
   "source": [
    "\n",
    "start_time = time.time()\n",
    "for i in trange(test_round, desc=\"Where on Stkcd\"):\n",
    "    t = df[df[\"Stkcd\"] <= 20000]\n",
    "benchmark_results[\"where\"][\"Stkcd\"] = (time.time() - start_time) * 1000 / test_round\n",
    "\n",
    "start_time = time.time()\n",
    "for i in trange(test_round, desc=\"Where on Clsprc\"):\n",
    "    t = df[df[\"Clsprc\"] > 15.0]\n",
    "benchmark_results[\"where\"][\"Clsprc\"] = (time.time() - start_time) * 1000 / test_round\n"
   ]
  },
  {
   "cell_type": "code",
   "execution_count": 20,
   "metadata": {},
   "outputs": [
    {
     "name": "stderr",
     "output_type": "stream",
     "text": [
      "Apply on Stkcd: 100%|██████████| 100/100 [00:00<00:00, 133.48it/s]\n",
      "Apply on Opnprc: 100%|██████████| 100/100 [00:00<00:00, 208.14it/s]\n"
     ]
    }
   ],
   "source": [
    "start_time = time.time()\n",
    "for i in trange(test_round, desc=\"Apply on Stkcd\"):\n",
    "    t = (df[\"Clsprc\"] - df[\"Opnprc\"]) / (df[\"Hiprc\"] - df[\"Loprc\"])\n",
    "benchmark_results[\"apply\"][\"Cls-Opn\"] = (time.time() - start_time) * 1000 / test_round\n",
    "\n",
    "start_time = time.time()\n",
    "for i in trange(test_round, desc=\"Apply on Opnprc\"):\n",
    "    t = (df[\"Clsprc\"] - df[\"Opnprc\"]) * 100\n",
    "benchmark_results[\"apply\"][\"Delta\"] = (time.time() - start_time) * 1000 / test_round"
   ]
  },
  {
   "cell_type": "code",
   "execution_count": null,
   "metadata": {},
   "outputs": [
    {
     "name": "stderr",
     "output_type": "stream",
     "text": [
      "Apply on Stkcd: 100%|██████████| 100/100 [00:00<00:00, 142.89it/s]\n",
      "Apply on Opnprc: 100%|██████████| 100/100 [00:02<00:00, 47.78it/s]\n"
     ]
    }
   ],
   "source": [
    "# def double_value(x):\n",
    "#     return x * 2\n",
    "\n",
    "# start_time = time.time()\n",
    "# for i in trange(test_round, desc=\"Apply on Stkcd\"):\n",
    "#     t = df[\"Stkcd\"].apply(double_value)\n",
    "# benchmark_results[\"apply\"][\"Stkcd\"] = (time.time() - start_time) * 1000 / test_round\n",
    "\n",
    "# start_time = time.time()\n",
    "# for i in trange(test_round, desc=\"Apply on Opnprc\"):\n",
    "#     t = df[\"Opnprc\"].apply(double_value)\n",
    "# benchmark_results[\"apply\"][\"Opnprc\"] = (time.time() - start_time) * 1000 / test_round"
   ]
  },
  {
   "cell_type": "code",
   "execution_count": 22,
   "metadata": {},
   "outputs": [
    {
     "data": {
      "text/plain": [
       "{'Cls-Opn': 7.505254745483398,\n",
       " 'Delta': 4.813425540924072,\n",
       " 'Stkcd': 7.009472846984863,\n",
       " 'Opnprc': 20.93878746032715}"
      ]
     },
     "execution_count": 22,
     "metadata": {},
     "output_type": "execute_result"
    }
   ],
   "source": [
    "benchmark_results[\"apply\"]"
   ]
  },
  {
   "cell_type": "code",
   "execution_count": null,
   "metadata": {},
   "outputs": [],
   "source": [
    "# Sort 操作\n",
    "start_time = time.time()\n",
    "for i in trange(test_round, desc=\"Sort on Stkcd\"):\n",
    "    t = df.sort_values(\"Stkcd\")\n",
    "benchmark_results[\"sort\"][\"Stkcd\"] = (time.time() - start_time) * 1000 / test_round\n",
    "\n",
    "start_time = time.time()\n",
    "for i in trange(test_round, desc=\"Sort on Clsprc\"):\n",
    "    t = df.sort_values(\"Clsprc\")\n",
    "benchmark_results[\"sort\"][\"Clsprc\"] = (time.time() - start_time) * 1000 / test_round\n",
    "\n",
    "start_time = time.time()\n",
    "for i in trange(test_round, desc=\"Sort on Hiprc\"):\n",
    "    t = df.sort_values(\"Hiprc\")\n",
    "benchmark_results[\"sort\"][\"Hiprc\"] = (time.time() - start_time) * 1000 / test_round"
   ]
  },
  {
   "cell_type": "code",
   "execution_count": null,
   "metadata": {},
   "outputs": [],
   "source": [
    "stkcd_span = 1000\n",
    "df_subset_0_20 = df[df[\"Stkcd\"].between(0, stkcd_span)]\n",
    "df_subset_20_40 = df[df[\"Stkcd\"].between(stkcd_span, stkcd_span * 2)]\n",
    "\n",
    "start_time = time.time()\n",
    "for i in trange(test_round, desc=\"Join on Stkcd\"):\n",
    "    t = df_subset_0_20.merge(df_subset_20_40, on=\"Trddt\", how=\"left\")\n",
    "benchmark_results[\"join\"][\"Stkcd_0_20_vs_20_40\"] = (time.time() - start_time) * 1000 / test_round"
   ]
  },
  {
   "cell_type": "code",
   "execution_count": null,
   "metadata": {},
   "outputs": [],
   "source": [
    "agg_map = {\n",
    "    \"Clsprc\": [\"max\", \"min\", \"mean\"],\n",
    "    \"Opnprc\": [\"max\", \"min\", \"mean\"],\n",
    "    \"Hiprc\": [\"max\", \"min\", \"mean\"],\n",
    "    \"Loprc\": [\"max\", \"min\", \"mean\"],\n",
    "}\n",
    "start_time = time.time()\n",
    "for i in trange(test_round, desc=\"Groupby on Stkcd (Clsprc)\"):\n",
    "    t = df.groupby(\"Stkcd\").agg(agg_map)\n",
    "benchmark_results[\"groupby\"][\"Stkcd_Clsprc\"] = (time.time() - start_time) * 1000 / test_round"
   ]
  },
  {
   "cell_type": "code",
   "execution_count": null,
   "metadata": {},
   "outputs": [],
   "source": [
    "with open(\"../../results/cudf_benchmark_results.json\", \"w\") as f:\n",
    "    json.dump(benchmark_results, f, indent=4)"
   ]
  }
 ],
 "metadata": {
  "kernelspec": {
   "display_name": "cudf",
   "language": "python",
   "name": "python3"
  },
  "language_info": {
   "codemirror_mode": {
    "name": "ipython",
    "version": 3
   },
   "file_extension": ".py",
   "mimetype": "text/x-python",
   "name": "python",
   "nbconvert_exporter": "python",
   "pygments_lexer": "ipython3",
   "version": "3.11.11"
  }
 },
 "nbformat": 4,
 "nbformat_minor": 2
}
