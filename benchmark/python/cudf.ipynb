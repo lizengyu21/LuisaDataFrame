{
 "cells": [
  {
   "cell_type": "code",
   "execution_count": 7,
   "metadata": {},
   "outputs": [],
   "source": [
    "import cudf\n",
    "import time\n",
    "from tqdm import trange"
   ]
  },
  {
   "cell_type": "code",
   "execution_count": 8,
   "metadata": {},
   "outputs": [
    {
     "data": {
      "text/html": [
       "<div>\n",
       "<style scoped>\n",
       "    .dataframe tbody tr th:only-of-type {\n",
       "        vertical-align: middle;\n",
       "    }\n",
       "\n",
       "    .dataframe tbody tr th {\n",
       "        vertical-align: top;\n",
       "    }\n",
       "\n",
       "    .dataframe thead th {\n",
       "        text-align: right;\n",
       "    }\n",
       "</style>\n",
       "<table border=\"1\" class=\"dataframe\">\n",
       "  <thead>\n",
       "    <tr style=\"text-align: right;\">\n",
       "      <th></th>\n",
       "      <th>Stkcd</th>\n",
       "      <th>Trddt</th>\n",
       "      <th>Opnprc</th>\n",
       "      <th>Hiprc</th>\n",
       "      <th>Loprc</th>\n",
       "      <th>Clsprc</th>\n",
       "    </tr>\n",
       "  </thead>\n",
       "  <tbody>\n",
       "    <tr>\n",
       "      <th>0</th>\n",
       "      <td>1</td>\n",
       "      <td>2020-02-19</td>\n",
       "      <td>15.100000</td>\n",
       "      <td>15.370000</td>\n",
       "      <td>15.080000</td>\n",
       "      <td>15.240000</td>\n",
       "    </tr>\n",
       "    <tr>\n",
       "      <th>1</th>\n",
       "      <td>1</td>\n",
       "      <td>2020-02-20</td>\n",
       "      <td>15.270000</td>\n",
       "      <td>15.620001</td>\n",
       "      <td>15.100000</td>\n",
       "      <td>15.590000</td>\n",
       "    </tr>\n",
       "    <tr>\n",
       "      <th>2</th>\n",
       "      <td>1</td>\n",
       "      <td>2020-02-21</td>\n",
       "      <td>15.490000</td>\n",
       "      <td>15.720000</td>\n",
       "      <td>15.450000</td>\n",
       "      <td>15.580000</td>\n",
       "    </tr>\n",
       "    <tr>\n",
       "      <th>3</th>\n",
       "      <td>1</td>\n",
       "      <td>2020-02-24</td>\n",
       "      <td>15.460000</td>\n",
       "      <td>15.460000</td>\n",
       "      <td>15.150001</td>\n",
       "      <td>15.230000</td>\n",
       "    </tr>\n",
       "    <tr>\n",
       "      <th>4</th>\n",
       "      <td>1</td>\n",
       "      <td>2020-02-25</td>\n",
       "      <td>15.000000</td>\n",
       "      <td>15.130000</td>\n",
       "      <td>14.780000</td>\n",
       "      <td>15.040000</td>\n",
       "    </tr>\n",
       "    <tr>\n",
       "      <th>...</th>\n",
       "      <td>...</td>\n",
       "      <td>...</td>\n",
       "      <td>...</td>\n",
       "      <td>...</td>\n",
       "      <td>...</td>\n",
       "      <td>...</td>\n",
       "    </tr>\n",
       "    <tr>\n",
       "      <th>5897412</th>\n",
       "      <td>920128</td>\n",
       "      <td>2025-02-12</td>\n",
       "      <td>30.049999</td>\n",
       "      <td>30.920000</td>\n",
       "      <td>29.379999</td>\n",
       "      <td>30.650000</td>\n",
       "    </tr>\n",
       "    <tr>\n",
       "      <th>5897413</th>\n",
       "      <td>920128</td>\n",
       "      <td>2025-02-13</td>\n",
       "      <td>30.299999</td>\n",
       "      <td>30.680000</td>\n",
       "      <td>29.400000</td>\n",
       "      <td>29.400000</td>\n",
       "    </tr>\n",
       "    <tr>\n",
       "      <th>5897414</th>\n",
       "      <td>920128</td>\n",
       "      <td>2025-02-14</td>\n",
       "      <td>29.640001</td>\n",
       "      <td>29.640001</td>\n",
       "      <td>28.920000</td>\n",
       "      <td>29.100000</td>\n",
       "    </tr>\n",
       "    <tr>\n",
       "      <th>5897415</th>\n",
       "      <td>920128</td>\n",
       "      <td>2025-02-17</td>\n",
       "      <td>29.100000</td>\n",
       "      <td>29.650000</td>\n",
       "      <td>28.900000</td>\n",
       "      <td>29.290001</td>\n",
       "    </tr>\n",
       "    <tr>\n",
       "      <th>5897416</th>\n",
       "      <td>920128</td>\n",
       "      <td>2025-02-18</td>\n",
       "      <td>29.500000</td>\n",
       "      <td>30.600000</td>\n",
       "      <td>29.260000</td>\n",
       "      <td>29.750000</td>\n",
       "    </tr>\n",
       "  </tbody>\n",
       "</table>\n",
       "<p>5897417 rows × 6 columns</p>\n",
       "</div>"
      ],
      "text/plain": [
       "          Stkcd       Trddt     Opnprc      Hiprc      Loprc     Clsprc\n",
       "0             1  2020-02-19  15.100000  15.370000  15.080000  15.240000\n",
       "1             1  2020-02-20  15.270000  15.620001  15.100000  15.590000\n",
       "2             1  2020-02-21  15.490000  15.720000  15.450000  15.580000\n",
       "3             1  2020-02-24  15.460000  15.460000  15.150001  15.230000\n",
       "4             1  2020-02-25  15.000000  15.130000  14.780000  15.040000\n",
       "...         ...         ...        ...        ...        ...        ...\n",
       "5897412  920128  2025-02-12  30.049999  30.920000  29.379999  30.650000\n",
       "5897413  920128  2025-02-13  30.299999  30.680000  29.400000  29.400000\n",
       "5897414  920128  2025-02-14  29.640001  29.640001  28.920000  29.100000\n",
       "5897415  920128  2025-02-17  29.100000  29.650000  28.900000  29.290001\n",
       "5897416  920128  2025-02-18  29.500000  30.600000  29.260000  29.750000\n",
       "\n",
       "[5897417 rows x 6 columns]"
      ]
     },
     "execution_count": 8,
     "metadata": {},
     "output_type": "execute_result"
    }
   ],
   "source": [
    "dtypes = {\n",
    "    \"Stkcd\" : \"int32\",\n",
    "    \"Opnprc\": \"float32\",\n",
    "    \"Hiprc\": \"float32\",\n",
    "    \"Loprc\": \"float32\",\n",
    "    \"Clsprc\": \"float32\"\n",
    "}\n",
    "df_list = []\n",
    "for i in range(6):\n",
    "    df = cudf.read_csv(f\"../../data/TRD_Dalyr{i}.csv\", dtype=dtypes)\n",
    "    df_list.append(df)\n",
    "\n",
    "df = cudf.concat(df_list, axis=0, ignore_index=True)\n",
    "df"
   ]
  },
  {
   "cell_type": "code",
   "execution_count": 9,
   "metadata": {},
   "outputs": [
    {
     "name": "stderr",
     "output_type": "stream",
     "text": [
      "Where on Stkcd: 100%|██████████| 1000/1000 [00:03<00:00, 273.47it/s]\n",
      "Where on Clsprc: 100%|██████████| 1000/1000 [00:04<00:00, 233.73it/s]"
     ]
    },
    {
     "name": "stdout",
     "output_type": "stream",
     "text": [
      "{'Stkcd': 3657.761573791504, 'Clsprc': 4279.566049575806}\n"
     ]
    },
    {
     "name": "stderr",
     "output_type": "stream",
     "text": [
      "\n"
     ]
    }
   ],
   "source": [
    "\n",
    "where_results = {}\n",
    "# Where on Stkcd (int32)\n",
    "start_time = time.time()\n",
    "for i in trange(1000, desc=\"Where on Stkcd\"):\n",
    "    t = df[df[\"Stkcd\"] <= 20000]\n",
    "where_results[\"Stkcd\"] = (time.time() - start_time) * 1000\n",
    "\n",
    "start_time = time.time()\n",
    "for i in trange(1000, desc=\"Where on Clsprc\"):\n",
    "    t = df[df[\"Clsprc\"] > 15.0]\n",
    "where_results[\"Clsprc\"] = (time.time() - start_time) * 1000\n",
    "\n",
    "print(where_results)"
   ]
  },
  {
   "cell_type": "code",
   "execution_count": 12,
   "metadata": {},
   "outputs": [
    {
     "name": "stderr",
     "output_type": "stream",
     "text": [
      "Apply on Stkcd: 100%|██████████| 1/1 [00:00<00:00, 90.26it/s]\n"
     ]
    },
    {
     "name": "stdout",
     "output_type": "stream",
     "text": [
      "0                2\n",
      "1                2\n",
      "2                2\n",
      "3                2\n",
      "4                2\n",
      "            ...   \n",
      "5897412    1840256\n",
      "5897413    1840256\n",
      "5897414    1840256\n",
      "5897415    1840256\n",
      "5897416    1840256\n",
      "Name: Stkcd, Length: 5897417, dtype: int64\n"
     ]
    },
    {
     "name": "stderr",
     "output_type": "stream",
     "text": [
      "Apply on Opnprc: 100%|██████████| 1000/1000 [00:02<00:00, 465.86it/s]"
     ]
    },
    {
     "name": "stdout",
     "output_type": "stream",
     "text": [
      "{'Stkcd': 13.38958740234375, 'Opnprc': 2148.7505435943604}\n"
     ]
    },
    {
     "name": "stderr",
     "output_type": "stream",
     "text": [
      "\n"
     ]
    }
   ],
   "source": [
    "def double_value(x):\n",
    "    return x * 2\n",
    "\n",
    "apply_results = {}\n",
    "# Apply on Stkcd (int32)\n",
    "start_time = time.time()\n",
    "for i in trange(1, desc=\"Apply on Stkcd\"):\n",
    "    t = df[\"Stkcd\"].apply(double_value)\n",
    "    print(t)\n",
    "apply_results[\"Stkcd\"] = (time.time() - start_time) * 1000\n",
    "\n",
    "# Apply on Clsprc (float32)\n",
    "start_time = time.time()\n",
    "for i in trange(1000, desc=\"Apply on Opnprc\"):\n",
    "    t = df[\"Opnprc\"].apply(double_value)\n",
    "apply_results[\"Opnprc\"] = (time.time() - start_time) * 1000\n",
    "\n",
    "print(apply_results)"
   ]
  }
 ],
 "metadata": {
  "kernelspec": {
   "display_name": "cudf",
   "language": "python",
   "name": "python3"
  },
  "language_info": {
   "codemirror_mode": {
    "name": "ipython",
    "version": 3
   },
   "file_extension": ".py",
   "mimetype": "text/x-python",
   "name": "python",
   "nbconvert_exporter": "python",
   "pygments_lexer": "ipython3",
   "version": "3.11.11"
  }
 },
 "nbformat": 4,
 "nbformat_minor": 2
}
